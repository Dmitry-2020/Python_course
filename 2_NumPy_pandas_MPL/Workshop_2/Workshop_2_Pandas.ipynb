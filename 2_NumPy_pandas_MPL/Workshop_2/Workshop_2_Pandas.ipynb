{
 "cells": [
  {
   "cell_type": "code",
   "execution_count": 1,
   "metadata": {},
   "outputs": [],
   "source": [
    "import pandas as pd"
   ]
  },
  {
   "cell_type": "markdown",
   "metadata": {},
   "source": [
    "# Задание 1\n",
    "Скачайте с сайта https://grouplens.org/datasets/movielens/ датасет любого размера. Определите какому фильму было выставлено больше всего оценок 5.0."
   ]
  },
  {
   "cell_type": "code",
   "execution_count": 48,
   "metadata": {},
   "outputs": [
    {
     "name": "stdout",
     "output_type": "stream",
     "text": [
      "Shawshank Redemption, The (1994)\n"
     ]
    }
   ],
   "source": [
    "rating = pd.read_csv('ratings.csv')\n",
    "movies = pd.read_csv('movies.csv')\n",
    "\n",
    "r_m = rating['movieId'][rating.rating == 5.0].value_counts()       #сортируем таблицу по кол-ву оценок 5\n",
    "id_best = r_m.head(1).index[0]                                     # выбираем первый элемент из полученной таблицы (номер фильма)\n",
    "\n",
    "search = movies[movies.movieId == id_best]                        #ищем в таблице movies название фильма по полученному id\n",
    "best_movies = search_movie['title'].values[0]                \n",
    "print(best_movies)"
   ]
  },
  {
   "cell_type": "markdown",
   "metadata": {},
   "source": [
    "# Задание 2\n",
    "По данным файла power.csv посчитайте суммарное потребление стран Прибалтики (Латвия, Литва и Эстония) категорий 4, 12 и 21 за период с 2005 по 2010 года. Не учитывайте в расчетах отрицательные значения quantity."
   ]
  },
  {
   "cell_type": "code",
   "execution_count": 115,
   "metadata": {},
   "outputs": [
    {
     "data": {
      "text/plain": [
       "408"
      ]
     },
     "execution_count": 115,
     "metadata": {},
     "output_type": "execute_result"
    }
   ],
   "source": [
    "power = pd.read_csv('power.csv')\n",
    "\n",
    "#создаем фильтр - сортируем исходные данные по каждой из выбранных стран\n",
    "filter_1 = power[(power['country'] == 'Lithuania') | (power['country'] == 'Latvia') | (power['country'] == 'Estonia')]\n",
    "\n",
    "#создаем ещё один фильтр - повторно сортирует результаты filter_1 по требуемым категорям\n",
    "filter_2 = filter_1[(filter_1['category'] == 4) |  (filter_1['category'] == 12) | (filter_1['category'] == 21)]\n",
    "\n",
    "#следующий фильтр - период с 2005 по 2011 и отсекаем отрицательные значения\n",
    "filter_3 = filter_2[(filter_2['year'] > 2004) & (filter_2['year'] < 2011) & (filter_2['quantity'] >= 0)]\n",
    "\n",
    "filter_3['country'].value_counts().sum()   #суммарное потребление выбранных стран"
   ]
  },
  {
   "cell_type": "markdown",
   "metadata": {},
   "source": [
    "# Задание 3\n",
    "Выберите страницу любого сайта с табличными данными. Импортируйте таблицы в pandas dataframe.\n",
    "Примеры страниц (необязательно брать именно эти):\n",
    "https://fortrader.org/quotes\n",
    "https://www.finanz.ru/valyuty/v-realnom-vremeni"
   ]
  },
  {
   "cell_type": "code",
   "execution_count": 118,
   "metadata": {},
   "outputs": [
    {
     "name": "stdout",
     "output_type": "stream",
     "text": [
      "                           Название     Цена  Изменение  Изменение(%)  \\\n",
      "0  EURRUB Курс евро к рублю сегодня  80.2504     0.3551        0.4445   \n",
      "1       USDRUB Курс рубля к доллару  70.7931     0.0909        0.1286   \n",
      "\n",
      "   Обновлено  \n",
      "0        NaN  \n",
      "1        NaN  \n"
     ]
    }
   ],
   "source": [
    "print(pd.read_html('https://fortrader.org/quotes')[0])"
   ]
  },
  {
   "cell_type": "code",
   "execution_count": null,
   "metadata": {},
   "outputs": [],
   "source": []
  }
 ],
 "metadata": {
  "kernelspec": {
   "display_name": "Python 3",
   "language": "python",
   "name": "python3"
  },
  "language_info": {
   "codemirror_mode": {
    "name": "ipython",
    "version": 3
   },
   "file_extension": ".py",
   "mimetype": "text/x-python",
   "name": "python",
   "nbconvert_exporter": "python",
   "pygments_lexer": "ipython3",
   "version": "3.7.6"
  }
 },
 "nbformat": 4,
 "nbformat_minor": 4
}
