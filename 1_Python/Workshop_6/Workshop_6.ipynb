{
 "cells": [
  {
   "cell_type": "markdown",
   "metadata": {},
   "source": [
    "# Задание 1:\n",
    "Печатные газеты использовали свой формат дат для каждого выпуска. Для каждой газеты из списка напишите формат указанной даты для перевода в объект datetime:\n",
    "The Moscow Times - Wednesday, October 2, 2002\n",
    "The Guardian - Friday, 11.10.13\n",
    "Daily News - Thursday, 18 August 1977"
   ]
  },
  {
   "cell_type": "code",
   "execution_count": 3,
   "metadata": {},
   "outputs": [
    {
     "name": "stdout",
     "output_type": "stream",
     "text": [
      "2002-10-02 00:00:00 2013-10-11 00:00:00 1977-08-18 00:00:00\n"
     ]
    }
   ],
   "source": [
    "import datetime as dt\n",
    "\n",
    "The_Moscow_Times = 'Wednesday, October 2, 2002'\n",
    "The_Guardian = 'Friday, 11.10.13'\n",
    "Daily_News = 'Thursday, 18 August 1977'\n",
    "\n",
    "moscow_times_date = dt.datetime.strptime(The_Moscow_Times, '%A, %B %d, %Y')\n",
    "guardian_data = dt.datetime.strptime(The_Guardian, '%A, %d.%m.%y')\n",
    "daily_news_data =  dt.datetime.strptime(Daily_News, '%A, %d %B %Y')\n",
    "print(moscow_times_date, guardian_data, daily_news_data)"
   ]
  },
  {
   "cell_type": "markdown",
   "metadata": {},
   "source": [
    "# Задание 2:\n",
    "Дан поток дат в формате YYYY-MM-DD, в которых встречаются некорректные значения:\n",
    "stream = ['2018-04-02', '2018-02-29', '2018-19-02'] Напишите функцию, которая проверяет эти даты на корректность. Т. е. для каждой даты возвращает True (дата корректна) или False (некорректная дата)"
   ]
  },
  {
   "cell_type": "code",
   "execution_count": 13,
   "metadata": {},
   "outputs": [
    {
     "name": "stdout",
     "output_type": "stream",
     "text": [
      "[True, True, True]\n"
     ]
    }
   ],
   "source": [
    "import datetime as dt\n",
    "\n",
    "def date_check(list_dates):\n",
    "    output = []\n",
    "    for date in list_dates:\n",
    "        try:\n",
    "            current_date = dt.datetime.strptime(date, '%Y-%m-%d')\n",
    "            output.append(True)\n",
    "        except ValueError:\n",
    "            output.append(False)\n",
    "    print(output)\n",
    "    \n",
    "\n",
    "stream = ['2018-04-02', '2018-02-20', '2018-02-02']\n",
    "date_check(stream)"
   ]
  },
  {
   "cell_type": "markdown",
   "metadata": {},
   "source": [
    "# Задание 3:\n",
    "Напишите функцию date_range, которая возвращает список дат за период от start_date до end_date. \n",
    "Даты должны вводиться в формате YYYY-MM-DD. \n",
    "В случае неверного формата или при start_date > end_date должен возвращаться пустой список."
   ]
  },
  {
   "cell_type": "code",
   "execution_count": null,
   "metadata": {},
   "outputs": [],
   "source": [
    "import datetime as dt\n",
    "\n",
    "def date_range(start_date, end_date):\n",
    "    dates = []\n",
    "    try:\n",
    "        start_date = dt.datetime.strptime(start_date, '%Y-%m-%d')\n",
    "        end_date = dt.datetime.strptime(end_date, '%Y-%m-%d')\n",
    "    except ValueError:\n",
    "        print('Неверный формат даты')\n",
    "    while start_date <= end_date:\n",
    "        dates.append(dt.datetime.strftime(start_date, '%Y-%m-%d'))\n",
    "        start_date += dt.timedelta(days=1)\n",
    "    return dates\n",
    "\n",
    "start_date = input('Введите дату начала в формате YYYY-MM-DD ')\n",
    "end_date = input('Введите дату конца в формате YYYY-MM-DD ')\n",
    "\n",
    "date_range(start_date, end_date)"
   ]
  },
  {
   "cell_type": "code",
   "execution_count": null,
   "metadata": {},
   "outputs": [],
   "source": []
  }
 ],
 "metadata": {
  "kernelspec": {
   "display_name": "Python 3",
   "language": "python",
   "name": "python3"
  },
  "language_info": {
   "codemirror_mode": {
    "name": "ipython",
    "version": 3
   },
   "file_extension": ".py",
   "mimetype": "text/x-python",
   "name": "python",
   "nbconvert_exporter": "python",
   "pygments_lexer": "ipython3",
   "version": "3.7.6"
  }
 },
 "nbformat": 4,
 "nbformat_minor": 4
}
