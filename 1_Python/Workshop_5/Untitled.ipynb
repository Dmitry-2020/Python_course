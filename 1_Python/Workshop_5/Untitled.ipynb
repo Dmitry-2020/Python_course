{
 "cells": [
  {
   "cell_type": "code",
   "execution_count": null,
   "metadata": {},
   "outputs": [],
   "source": [
    "import json                                           #импортируем библиотеку json\n",
    "\n",
    "f = open('purchase_log.txt', 'r', encoding=\"utf-8\")  #открываем файл в режиме чтения; без указания кодировки не работает\n",
    "purchases = {}                                       #создаем пустой словарь\n",
    "for line in f:\n",
    "    line = line.strip()\n",
    "    dict_ = json.loads(line)                         #используем библиотеку json для перевода строки в новый словарь\n",
    "    purchases[dict_[\"user_id\"]] = dict_[\"category\"]  #наполняем итогоывый словарь purchases по ключам словаря dict_\n",
    "f.close()                                            #закрываем файл\n",
    "\n",
    "#purchases                                            #проверяем словарь без команды print для частичного вывода\n",
    "\n",
    "\n",
    "initial_file = open('visit_log.csv', 'r', encoding=\"utf-8\")\n",
    "funnel = open('funnel.csv', 'w', encoding=\"utf-8\")\n",
    "\n",
    "for el in initial_file:\n",
    "    t = el.strip().split(\",\")                          #удалем перенос строки и переводим строки в списки с разделителем \",\"\n",
    "    if t[0] in purchases:                                #проверяем есть ли в словаре purchases лог пользователя\n",
    "        category_type = purchases[t[0]]                    #если есть, то создаем пишем строки\n",
    "        add_funnel = (f'{el.strip()},{category_type}\\n')   #создаем строку из элементов файла visit_log.csv и значений словаря purchases \n",
    "        funnel.write(add_funnel)                        #записываем строку в файл funnel.csv\n",
    "initial_file.close()                                   #закрываем файлы\n",
    "funnel.close()"
   ]
  }
 ],
 "metadata": {
  "kernelspec": {
   "display_name": "Python 3",
   "language": "python",
   "name": "python3"
  },
  "language_info": {
   "codemirror_mode": {
    "name": "ipython",
    "version": 3
   },
   "file_extension": ".py",
   "mimetype": "text/x-python",
   "name": "python",
   "nbconvert_exporter": "python",
   "pygments_lexer": "ipython3",
   "version": "3.7.6"
  }
 },
 "nbformat": 4,
 "nbformat_minor": 4
}
