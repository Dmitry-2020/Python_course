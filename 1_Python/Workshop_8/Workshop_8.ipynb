{
 "cells": [
  {
   "cell_type": "markdown",
   "metadata": {},
   "source": [
    "# Задание 1.\n",
    "Напишите функцию, которая принимает на вход строку и проверяет является ли она валидным транспортным номером. Если да, то функция должна возвращать отдельно номер и регион."
   ]
  },
  {
   "cell_type": "code",
   "execution_count": 24,
   "metadata": {},
   "outputs": [
    {
     "data": {
      "text/plain": [
       "('E125ТС', '177')"
      ]
     },
     "execution_count": 24,
     "metadata": {},
     "output_type": "execute_result"
    }
   ],
   "source": [
    "import re\n",
    "def car_number_check(inp_number):\n",
    "    search_rule = r'[ABEKMHOPCTYXАВЕКМНОРСТУХ]\\d{3}[ABEKMHOPCTYXАВЕКМНОРСТУХ]{2}\\d{2,3}'  #шаблон поиска\n",
    "    search = re.fullmatch(search_rule, inp_number, flags=re.I)                           #поиск по входным данным\n",
    "    if search:                                                                          #если поиск успешен, то выводим номер и регион\n",
    "        return search.group()[0:6], search.group()[6:]\n",
    "    else:\n",
    "        print('Ошибка формата номера или номер отсутвует')\n",
    "\n",
    "car_number_check('E125ТС177')"
   ]
  },
  {
   "cell_type": "markdown",
   "metadata": {},
   "source": [
    "# Задание 2. \n",
    "Постарайтесь написать (в крайнем случае найти) самый полный шаблон для проверки e-mail адресов через регулярное выражение, которая проверяет e-mail адрес на валидность. Можно руководствоваться следующими минимальными требованиями:\n",
    "\n",
    "• адрес должен содержать специальный символ “@”, который отделяет имя пользователя почтовой системы от доменного имени;\n",
    "\n",
    "• адрес не должен содержать следующие символы: “пробел”, “,”, “:”, “;”, “!”, “#”, “%”, “*”, “(”, “)”, “=”, “+”, “{”, “}”, \" \" \", \" ’ \", \" / \", \" \\ \" и “|”;\n",
    "\n",
    "• адрес должен состоять только из латинских символов;\n",
    "\n",
    "• после символа “@” должна быть как минимум одна “.”;\n",
    "\n",
    "• после последней точки должно быть не менее 2-х и не более 4-х символов, причем наличие цифр не допускается;\n",
    "\n",
    "• между последней точкой и символом “@” должно быть не менее 2-х символов\n",
    "\n",
    "• слева от “@” должно быть не менее четырех символов"
   ]
  },
  {
   "cell_type": "code",
   "execution_count": 29,
   "metadata": {},
   "outputs": [
    {
     "name": "stdout",
     "output_type": "stream",
     "text": [
      "test@rambler.ru\n"
     ]
    }
   ],
   "source": [
    "import re\n",
    "def mail_check(inp_mail):\n",
    "    search_rule = r'[\\w\\'._+-]{4,}@[\\w\\'._+-]{2,}\\.[a-z]{2,4}'\n",
    "    search = re.fullmatch(search_rule, inp_mail)\n",
    "    if search:\n",
    "        print(inp_mail)\n",
    "    else:\n",
    "        print('Ошибка формата e-mail адреса')\n",
    "\n",
    "mail_check('test@rambler.ru')\n",
    "#mail_check('testrambler.ru')"
   ]
  },
  {
   "cell_type": "markdown",
   "metadata": {},
   "source": [
    "# **Задание 3. **\n",
    "Напишите функцию, которая будет удалять все последовательные повторы слов из заданной строки при помощи регулярных выражений."
   ]
  },
  {
   "cell_type": "code",
   "execution_count": 30,
   "metadata": {},
   "outputs": [
    {
     "data": {
      "text/plain": [
       "'Напишите функцию, которая будет удалять все последовательные повторы слов из заданной строки при помощи регулярных выражений'"
      ]
     },
     "execution_count": 30,
     "metadata": {},
     "output_type": "execute_result"
    }
   ],
   "source": [
    "import re\n",
    "def repeat_del(inp):\n",
    "    return re.sub(r'\\b([^\\W\\d_]+)(\\s+\\1)+\\b', r'\\1', inp)\n",
    "\n",
    "test = 'Напишите Напишите функцию функцию, которая которая будет будет удалять удалять все последовательные повторы слов из заданной строки при помощи регулярных выражений'\n",
    "repeat_del(test)"
   ]
  },
  {
   "cell_type": "markdown",
   "metadata": {},
   "source": [
    "# Задание 4.\n",
    "Напишите функцию, которая будет проверять номер сотового телефона на валидность, если он валиден, то переводить его в формат:\n",
    "+7(xxx)-xxx-xx-xx"
   ]
  },
  {
   "cell_type": "code",
   "execution_count": 42,
   "metadata": {},
   "outputs": [
    {
     "data": {
      "text/plain": [
       "'+7(955)-555-55-55'"
      ]
     },
     "execution_count": 42,
     "metadata": {},
     "output_type": "execute_result"
    }
   ],
   "source": [
    "import re\n",
    "def phone_number_check(inp):\n",
    "    search_rule = r'(\\s*)?(\\+)?([- _():=+]?\\d[- _():=+]?){10,14}(\\s*)?'\n",
    "    search = re.fullmatch(search_rule, inp)\n",
    "    if search:\n",
    "        phone_1 = re.sub(r'[- _():=+]', r'', search.group())\n",
    "        return re.sub(r'\\d*(\\d\\d\\d)(\\d\\d\\d)(\\d\\d)(\\d\\d)', r'+7(\\1)-\\2-\\3-\\4', phone_1) \n",
    "    else:\n",
    "        return 'Ошибка формата'\n",
    "\n",
    "test_1 = '+7 955+555+55+55'\n",
    "test_2 = '+7926Pyhon3'\n",
    "phone_number_check(test_1)"
   ]
  }
 ],
 "metadata": {
  "kernelspec": {
   "display_name": "Python 3",
   "language": "python",
   "name": "python3"
  },
  "language_info": {
   "codemirror_mode": {
    "name": "ipython",
    "version": 3
   },
   "file_extension": ".py",
   "mimetype": "text/x-python",
   "name": "python",
   "nbconvert_exporter": "python",
   "pygments_lexer": "ipython3",
   "version": "3.7.6"
  }
 },
 "nbformat": 4,
 "nbformat_minor": 4
}
